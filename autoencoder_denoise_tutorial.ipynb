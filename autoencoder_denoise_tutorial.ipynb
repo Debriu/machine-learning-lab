{
 "cells": [
  {
   "cell_type": "markdown",
   "metadata": {},
   "source": [
    "<h1 style=\"text-align: center;\" markdown=\"1\"> Autoencoder with Convolution & Deconvolution Example </h1>"
   ]
  },
  {
   "cell_type": "markdown",
   "metadata": {},
   "source": [
    "<img src=\"images/images.001.jpg\" alt=\"Drawing\" style=\"width: 700px;\"/>"
   ]
  },
  {
   "cell_type": "markdown",
   "metadata": {},
   "source": [
    "<img src=\"images/images.002.jpg\" alt=\"Drawing\" style=\"width: 700px;\"/>"
   ]
  },
  {
   "cell_type": "markdown",
   "metadata": {},
   "source": [
    "# Task of the presentation\n",
    "\n",
    "Build a 2 layers autoencoder with TensorFlow to remove noise from an image."
   ]
  },
  {
   "cell_type": "markdown",
   "metadata": {},
   "source": [
    "## Autoencoder Overview\n",
    "\n",
    "Autoencoders are unsupervised neural networks that aim to copy their inputs to their outputs. They work by compressing the input into a **latent-space representation**, and then reconstructing the output from this representation. \n",
    "\n",
    "\n",
    "<img src=\"images/image_a.png\" alt=\"Drawing\" style=\"width: 800px;\"/>\n",
    "\n",
    "- The **latent vector** is the essence of the autoencoder;\n",
    "\n",
    "- The encoder and the decoder could be composed by any kind of layers. We will se a CNN-autoencoder;\n",
    "\n",
    "**Encoder:** This is the part of the network that compresses the input into a latent-space representation. It can be represented by an encoding function \n",
    "\n",
    "### $$h=f(x).$$\n",
    "\n",
    "**Decoder**: This part aims to reconstruct the input from the latent space representation. It can be represented by a decoding function \n",
    "\n",
    "### $$r=g(h).$$\n",
    "\n",
    "\n",
    "The autoencoder as a whole can thus be described by the function \n",
    "\n",
    "### $$g(f(x)) = r.$$ \n",
    "\n",
    "where $r$ is called *reconstruction*. By training the autoencoder to copy the input to the output ($r$ as close as the original input $x$), the latent representation $h$ will take on useful properties. For instance, if the dimension of $h$ is smaller than $x$ we can construct a representation of the input which is compressed. This forces the autoencoder to learn the most salient features of the training data (a sort of PCA).\n",
    "\n",
    "References:\n",
    "- [Gradient-based learning applied to document recognition](http://yann.lecun.com/exdb/publis/pdf/lecun-01a.pdf). Y. LeCun, L. Bottou, Y. Bengio, and P. Haffner. Proceedings of the IEEE, 86(11):2278-2324, November 1998.\n",
    "\n",
    "## Applications of Autoencoders\n",
    "\n",
    "- **Dimensional Reduction**: throw away the output and extract the compressed layer. We can now build a new dataset with lower dimensionality;\n",
    "- **Seq2Seq**: Sequence to Sequence models (language translation, for instance) have an encoder-decoder structure;\n",
    "- **Denoising**: the input is an image with some noise added. The loss function is setted to minimize the difference between the reconstructed image and the original noise-free image.\n",
    "- **...**\n",
    "\n",
    "## MNIST Dataset Overview\n",
    "\n",
    "This example is using MNIST handwritten digits. The dataset contains 60,000 examples for training and 10,000 examples for testing. The digits have been size-normalized and centered in a fixed-size image (28x28 pixels) with values from 0 to 1. For simplicity, each image has been flattened and converted to a 1-D numpy array of 784 features (28*28).\n",
    "\n",
    "![MNIST Dataset](http://neuralnetworksanddeeplearning.com/images/mnist_100_digits.png)\n",
    "\n",
    "More info: http://yann.lecun.com/exdb/mnist/\n",
    "\n",
    "## Deconvolutional Layer (transposed conv-layer)\n",
    "\n",
    "A deconvolutional layer is just the transposed of its corresponding convolutional layer (E.g. if conv layer's shape is [height, width, numColors, numMaps], than the deconv layer will have the shape [height, width, numMaps, numColors])\n",
    "\n",
    "one-to-many (deconv; feature to pixels) rather than many-to-one (conv; pixels to feature) association.\n",
    "\n",
    "### Math of Convolution\n",
    "\n",
    "<img src=\"images/image_b.png\" alt=\"Drawing\" style=\"width: 600px;\"/>\n",
    "\n",
    "<img src=\"images/image_c.png\" alt=\"Drawing\" style=\"width: 600px;\"/>\n",
    "\n",
    "\n",
    "### Math of Transposed Convolution\n",
    "\n",
    "<img src=\"images/image_d.png\" alt=\"Drawing\" style=\"width: 600px;\"/>\n"
   ]
  },
  {
   "cell_type": "markdown",
   "metadata": {},
   "source": [
    " <h1 style=\"text-align: center;\" markdown=\"1\">  Tensorflow Convolutional Autoencoder for Noise Reduction </h1>\n",
    "\n",
    "#### Versions: Python 3.6, Tensorflow 1.9"
   ]
  },
  {
   "cell_type": "code",
   "execution_count": 36,
   "metadata": {
    "collapsed": false
   },
   "outputs": [],
   "source": [
    "from __future__ import division, print_function, absolute_import\n",
    "\n",
    "import tensorflow as tf\n",
    "import tensorflow.contrib.slim as slim\n",
    "\n",
    "import math\n",
    "import numpy as np\n",
    "import os\n",
    "%matplotlib inline\n",
    "\n",
    "import matplotlib.pyplot as plt\n",
    "\n",
    "import warnings\n",
    "warnings.filterwarnings('ignore')"
   ]
  },
  {
   "cell_type": "markdown",
   "metadata": {},
   "source": [
    "#### Load MNIST Dataset "
   ]
  },
  {
   "cell_type": "markdown",
   "metadata": {},
   "source": [
    "NOTE: The dataset folder must be put in the main directory where this tutorial is placed"
   ]
  },
  {
   "cell_type": "code",
   "execution_count": 37,
   "metadata": {
    "collapsed": false
   },
   "outputs": [
    {
     "name": "stdout",
     "output_type": "stream",
     "text": [
      "Extracting /Users/Yak52/Github/machine-learning-lab/MNIST-data/train-images-idx3-ubyte.gz\n",
      "Extracting /Users/Yak52/Github/machine-learning-lab/MNIST-data/train-labels-idx1-ubyte.gz\n",
      "Extracting /Users/Yak52/Github/machine-learning-lab/MNIST-data/t10k-images-idx3-ubyte.gz\n",
      "Extracting /Users/Yak52/Github/machine-learning-lab/MNIST-data/t10k-labels-idx1-ubyte.gz\n"
     ]
    }
   ],
   "source": [
    "# Import MNIST data\n",
    "from tensorflow.examples.tutorials.mnist import input_data\n",
    "MNIST_PATH = os.path.join(os.getcwd(),'MNIST-data')\n",
    "mnist = input_data.read_data_sets(MNIST_PATH, one_hot=True)"
   ]
  },
  {
   "cell_type": "markdown",
   "metadata": {},
   "source": [
    "### Parameters and Activation Function\n",
    "\n",
    "We use a **leaky ReLU** which instead of clipping the negative values to zero, cuts them to a specific amount based on a hyperparameter alpha. This ensures that the network learns something even when the pixel value is below zero."
   ]
  },
  {
   "cell_type": "code",
   "execution_count": 38,
   "metadata": {
    "collapsed": true
   },
   "outputs": [],
   "source": [
    "tf.reset_default_graph()\n",
    "\n",
    "# Training Parameters\n",
    "learning_rate = 0.01\n",
    "num_steps = 1200\n",
    "batch_size = 128\n",
    "imsize = 28\n",
    "\n",
    "# Noise Parameter\n",
    "noise_variance = 0.5\n",
    "\n",
    "display_step = 100\n",
    "\n",
    "# LeakyRelu activation function (gradient is not zero for negative values)\n",
    "def lrelu(x,alpha=0.1):\n",
    "    return tf.maximum(alpha*x,x)\n",
    "\n",
    "# tf Graph input (only pictures)\n",
    "X = tf.placeholder(\"float\", [None, 28, 28, 1])\n",
    "X_noisy = tf.placeholder(\"float\", [None, 28, 28, 1])\n"
   ]
  },
  {
   "cell_type": "markdown",
   "metadata": {},
   "source": [
    "### Autoencoder using Convolutional & Deconvolutional layers"
   ]
  },
  {
   "cell_type": "code",
   "execution_count": 39,
   "metadata": {
    "collapsed": false
   },
   "outputs": [
    {
     "name": "stdout",
     "output_type": "stream",
     "text": [
      "encoder/conv1/Maximum:0 (?, 14, 14, 3)\n",
      "encoder/conv2/Maximum:0 (?, 7, 7, 3)\n",
      "decoder/conv1/Maximum:0 (?, 14, 14, 3)\n",
      "decoder/conv2/Maximum:0 (?, 28, 28, 1)\n"
     ]
    }
   ],
   "source": [
    "# Building the encoder\n",
    "# tf.nn.relu\n",
    "def encoder(x):\n",
    "    with tf.variable_scope('encoder'): \n",
    "        layer_1 = slim.conv2d(x, 3, [10,10], stride=2, padding='SAME', activation_fn=lrelu, scope='conv1')\n",
    "        print(layer_1.name, layer_1.get_shape())\n",
    "        layer_2 = slim.conv2d(layer_1, 3, [3,3], stride=2, padding='SAME', activation_fn=lrelu, scope='conv2')\n",
    "        print(layer_2.name, layer_2.get_shape())\n",
    "        return layer_2\n",
    "\n",
    "\n",
    "# Building the decoder\n",
    "def decoder(x):\n",
    "    with tf.variable_scope('decoder'): \n",
    "        layer_1 = slim.layers.conv2d_transpose(x, 3, [3,3], stride=2, padding='SAME', activation_fn=lrelu, scope='conv1')\n",
    "        print(layer_1.name, layer_1.get_shape())\n",
    "        layer_2 = slim.layers.conv2d_transpose(layer_1, 1, [10,10], stride=2, padding='SAME', activation_fn=lrelu, scope='conv2')\n",
    "        print(layer_2.name, layer_2.get_shape())\n",
    "    return layer_2\n",
    "\n",
    "# Construct model\n",
    "encoder_input = X_noisy\n",
    "encoder_output = encoder(encoder_input)\n",
    "decoder_output = decoder(encoder_output)\n",
    "\n",
    "\n",
    "# Targets (Labels) are the input data.\n",
    "y_target = X\n",
    "\n",
    "# Define loss and optimizer, minimize the squared error\n",
    "loss = tf.reduce_mean(tf.pow(y_target - decoder_output, 2))\n",
    "optimizer = tf.train.RMSPropOptimizer(learning_rate).minimize(loss)\n",
    "\n",
    "# Initialize the variables (i.e. assign their default value)\n",
    "init = tf.global_variables_initializer()"
   ]
  },
  {
   "cell_type": "markdown",
   "metadata": {},
   "source": [
    "### Training (Unsupervised)"
   ]
  },
  {
   "cell_type": "code",
   "execution_count": 40,
   "metadata": {
    "collapsed": false
   },
   "outputs": [
    {
     "name": "stdout",
     "output_type": "stream",
     "text": [
      "Step 1: Minibatch Loss: 0.106347\n",
      "Step 100: Minibatch Loss: 0.088915\n",
      "Step 200: Minibatch Loss: 0.026919\n",
      "Step 300: Minibatch Loss: 0.024595\n",
      "Step 400: Minibatch Loss: 0.038742\n",
      "Step 500: Minibatch Loss: 0.025084\n",
      "Step 600: Minibatch Loss: 0.025410\n",
      "Step 700: Minibatch Loss: 0.022890\n",
      "Step 800: Minibatch Loss: 0.021939\n",
      "Step 900: Minibatch Loss: 0.020126\n",
      "Step 1000: Minibatch Loss: 0.022396\n",
      "Step 1100: Minibatch Loss: 0.023305\n",
      "Step 1200: Minibatch Loss: 0.022602\n"
     ]
    }
   ],
   "source": [
    "# Start Training\n",
    "# Start a new TF session\n",
    "sess = tf.Session()\n",
    "\n",
    "# Run the initializer\n",
    "sess.run(init)\n",
    "\n",
    "# Training\n",
    "plot_step = []\n",
    "plot_loss = []\n",
    "for i in range(1, num_steps+1):\n",
    "    # Prepare Data\n",
    "    # Get the next batch of MNIST data (only images are needed, not labels)\n",
    "    batch_x, _ = mnist.train.next_batch(batch_size)\n",
    "    # Reshape the batch correctly\n",
    "    batch_x = batch_x.reshape([-1, 28, 28, 1])\n",
    "    # Add some Gaussian noise to the original images\n",
    "    batch_x_noisy = batch_x + np.random.normal(0, noise_variance, (batch_x.shape[0], batch_x.shape[1],batch_x.shape[2],batch_x.shape[3]))\n",
    "    # Run optimization op (backprop) and cost op (to get loss value)\n",
    "    _, l = sess.run([optimizer, loss], feed_dict={X: batch_x, X_noisy: batch_x_noisy})\n",
    "    # The following sess.run() is for an identity autoencoder \n",
    "    #_, l = sess.run([optimizer, loss], feed_dict={X: batch_x, X_noisy: batch_x})\n",
    "    # Display logs per step\n",
    "    if i % display_step == 0 or i == 1:\n",
    "        plot_step.append(i)\n",
    "        plot_loss.append(l)\n",
    "        print('Step %i: Minibatch Loss: %f' % (i, l))"
   ]
  },
  {
   "cell_type": "markdown",
   "metadata": {},
   "source": [
    "### Loss Function Plot"
   ]
  },
  {
   "cell_type": "code",
   "execution_count": 41,
   "metadata": {
    "collapsed": false
   },
   "outputs": [
    {
     "data": {
      "image/png": "[encoded data removed]",
      "text/plain": [
       "<matplotlib.figure.Figure at 0x13324f080>"
      ]
     },
     "metadata": {},
     "output_type": "display_data"
    },
    {
     "data": {
      "text/plain": [
       "<matplotlib.figure.Figure at 0x13324f940>"
      ]
     },
     "metadata": {},
     "output_type": "display_data"
    }
   ],
   "source": [
    "plt.plot(plot_step, plot_loss, 'bo', label='Training loss')\n",
    "plt.title('Training and validation loss')\n",
    "plt.xlabel('Steps ',fontsize=16)\n",
    "plt.ylabel('Loss',fontsize=16)\n",
    "plt.legend()\n",
    "plt.figure()\n",
    "plt.show()"
   ]
  },
  {
   "cell_type": "markdown",
   "metadata": {},
   "source": [
    "### Results!!"
   ]
  },
  {
   "cell_type": "code",
   "execution_count": 42,
   "metadata": {
    "collapsed": false
   },
   "outputs": [
    {
     "data": {
      "image/png": "[encoded data removed]",
      "text/plain": [
       "<matplotlib.figure.Figure at 0x132e43898>"
      ]
     },
     "metadata": {},
     "output_type": "display_data"
    }
   ],
   "source": [
    "# Testing\n",
    "# Encode and decode images from test set and visualize their reconstruction.\n",
    "n = 3\n",
    "m = 3\n",
    "canvas_noisy = np.empty((28 * n, 28 * m))\n",
    "canvas_recon = np.empty((28 * n, 28 * m))\n",
    "canvas_orig = np.empty((28 * n, 28 * m))\n",
    "for i in range(n):\n",
    "    # MNIST test set\n",
    "    batch_x, _ = mnist.test.next_batch(n)\n",
    "    batch_x = batch_x\n",
    "    # Encode and decode the digit image\n",
    "    batch_x = batch_x.reshape([n, 28, 28, 1])\n",
    "    #batch_x_noisy = batch_x + 0.2*tf.random_normal(tf.shape(batch_x))\n",
    "    batch_x_noisy = batch_x + np.random.normal(0, noise_variance, (batch_x.shape[0], batch_x.shape[1],batch_x.shape[2],batch_x.shape[3]))\n",
    "    #g = sess.run(decoder_op, feed_dict={X: batch_x})\n",
    "    results = sess.run(decoder_output, feed_dict={X: batch_x, X_noisy: batch_x_noisy})\n",
    "    # Display input images\n",
    "    for j in range(m):\n",
    "        canvas_noisy[i * 28:(i + 1) * 28, j * 28:(j + 1) * 28] = batch_x_noisy[j].reshape([28, 28])\n",
    "    # Display reconstructed images\n",
    "    for j in range(m):\n",
    "        canvas_recon[i * 28:(i + 1) * 28, j * 28:(j + 1) * 28] = results[j].reshape([28, 28])\n",
    "        # Display original images\n",
    "    for j in range(m):\n",
    "        canvas_orig[i * 28:(i + 1) * 28, j * 28:(j + 1) * 28] = batch_x[j].reshape([28, 28])\n",
    "\n",
    "        \n",
    "#Plotting\n",
    "plt.figure(figsize=(18,18))\n",
    "plt.subplot(131)\n",
    "plt.imshow(canvas_noisy, origin=\"upper\", cmap=\"gray\")\n",
    "plt.title(\"Noisy Images\")\n",
    "\n",
    "plt.subplot(132)\n",
    "plt.imshow(canvas_recon, origin=\"upper\", cmap=\"gray\")\n",
    "plt.title(\"Reconstructed\\Cleaned Images\")\n",
    "\n",
    "plt.subplot(133)\n",
    "plt.imshow(canvas_orig, origin=\"upper\", cmap=\"gray\")\n",
    "plt.title(\"Original Images\")\n",
    "plt.show()\n",
    "\n",
    "# print(\"original Images\")\n",
    "# plt.figure(figsize=(n, m))\n",
    "# plt.imshow(canvas_orig, origin=\"upper\", cmap=\"gray\")\n",
    "# plt.show()"
   ]
  },
  {
   "cell_type": "markdown",
   "metadata": {},
   "source": [
    "<h1 style=\"text-align: center;\" markdown=\"1\"> Looking inside a Deep Neural Network </h1> \n",
    "\n",
    "- Visualiziong weights from a layer \n",
    "\n",
    "- Visualiziong activations from a layer "
   ]
  },
  {
   "cell_type": "markdown",
   "metadata": {},
   "source": [
    "### Visualiziong weights from a layer"
   ]
  },
  {
   "cell_type": "markdown",
   "metadata": {},
   "source": [
    "yellow weights --> weights close to 1.0\n",
    "\n",
    "darkblue weights --> weights close to -1.0"
   ]
  },
  {
   "cell_type": "code",
   "execution_count": 43,
   "metadata": {
    "collapsed": false
   },
   "outputs": [
    {
     "name": "stdout",
     "output_type": "stream",
     "text": [
      "(10, 10, 1, 3)\n",
      "None\n"
     ]
    },
    {
     "data": {
      "image/png": "[encoded data removed]",
      "text/plain": [
       "<matplotlib.figure.Figure at 0x132e63a58>"
      ]
     },
     "metadata": {},
     "output_type": "display_data"
    }
   ],
   "source": [
    "def get_weights(scope):\n",
    "    with tf.variable_scope(scope, reuse=True):\n",
    "        ww = sess.run(tf.get_variable('weights'))\n",
    "        plotNNWeights(ww)\n",
    "        #print(ww)\n",
    "        #print(np.squeeze(ww[:,:,:,0]))\n",
    "        \n",
    "def plotNNWeights(units):\n",
    "    print(units.shape)\n",
    "    filters = units.shape[3]\n",
    "    plt.figure(1, figsize=(20,20))\n",
    "    n_columns = 6\n",
    "    n_rows = math.ceil(filters / n_columns) + 1\n",
    "    for i in range(filters):\n",
    "        plt.subplot(n_rows, n_columns, i+1)\n",
    "        plt.title('Weights' + str(i))\n",
    "        ww = np.squeeze(units[:,:,:,i])\n",
    "        plt.imshow(ww, interpolation=\"nearest\")\n",
    "        #plt.imshow(ww, interpolation=\"nearest\", cmap=\"gray\")\n",
    "\n",
    "print(get_weights('encoder/conv1'))"
   ]
  },
  {
   "cell_type": "code",
   "execution_count": 44,
   "metadata": {
    "collapsed": false
   },
   "outputs": [
    {
     "name": "stdout",
     "output_type": "stream",
     "text": [
      "(3, 3, 3, 3)\n",
      "None\n"
     ]
    },
    {
     "data": {
      "image/png": "[encoded data removed]",
      "text/plain": [
       "<matplotlib.figure.Figure at 0x133272f60>"
      ]
     },
     "metadata": {},
     "output_type": "display_data"
    }
   ],
   "source": [
    "print(get_weights('encoder/conv2'))"
   ]
  },
  {
   "cell_type": "code",
   "execution_count": 45,
   "metadata": {
    "collapsed": false
   },
   "outputs": [
    {
     "name": "stdout",
     "output_type": "stream",
     "text": [
      "(3, 3, 3, 3)\n",
      "None\n"
     ]
    },
    {
     "data": {
      "image/png": "[encoded data removed]",
      "text/plain": [
       "<matplotlib.figure.Figure at 0x128915470>"
      ]
     },
     "metadata": {},
     "output_type": "display_data"
    }
   ],
   "source": [
    "print(get_weights('decoder/conv1'))"
   ]
  },
  {
   "cell_type": "code",
   "execution_count": 46,
   "metadata": {
    "collapsed": false
   },
   "outputs": [
    {
     "name": "stdout",
     "output_type": "stream",
     "text": [
      "(10, 10, 1, 3)\n",
      "None\n"
     ]
    },
    {
     "data": {
      "image/png": "[encoded data removed]",
      "text/plain": [
       "<matplotlib.figure.Figure at 0x1294079b0>"
      ]
     },
     "metadata": {},
     "output_type": "display_data"
    }
   ],
   "source": [
    "print(get_weights('decoder/conv2'))"
   ]
  },
  {
   "cell_type": "markdown",
   "metadata": {
    "collapsed": true
   },
   "source": [
    "### A real example: AlexNet Conv1 weights on ImageNet"
   ]
  },
  {
   "cell_type": "markdown",
   "metadata": {},
   "source": [
    "The weights are useful to visualize because well-trained networks usually display nice and smooth filters without any noisy patterns. Noisy patterns can be an indicator of a network that hasn’t been trained for long enough, or possibly a very low regularization strength that may have led to overfitting.\n",
    "\n",
    "<img src=\"http://cs231n.github.io/assets/cnnvis/filt1.jpeg\" alt=\"ae\" style=\"width: 400px;\"/>"
   ]
  },
  {
   "cell_type": "markdown",
   "metadata": {},
   "source": [
    "### Visualiziong activations from a layer "
   ]
  },
  {
   "cell_type": "code",
   "execution_count": 23,
   "metadata": {
    "collapsed": true
   },
   "outputs": [],
   "source": [
    "def getActivations(scope, stimuli):\n",
    "    #layer = tf.get_default_graph().get_tensor_by_name(scope + \"/Relu:0\")\n",
    "    layer = tf.get_default_graph().get_tensor_by_name(scope + \"/Maximum:0\")\n",
    "    units = sess.run(layer, feed_dict={X: stimuli, X_noisy: stimuli})\n",
    "    plotNNFilter(units)\n",
    "            \n",
    "    \n",
    "def plotNNFilter(units):\n",
    "    print(units.shape)\n",
    "    filters = units.shape[3]\n",
    "    plt.figure(1, figsize=(20,20))\n",
    "    n_columns = 6\n",
    "    n_rows = math.ceil(filters / n_columns) + 1\n",
    "    for i in range(filters):\n",
    "        plt.subplot(n_rows, n_columns, i+1)\n",
    "        plt.title('Activation ' + str(i))\n",
    "        plt.imshow(units[0,:,:,i], interpolation=\"nearest\", cmap=\"gray\")\n"
   ]
  },
  {
   "cell_type": "code",
   "execution_count": 24,
   "metadata": {
    "collapsed": false
   },
   "outputs": [
    {
     "data": {
      "text/plain": [
       "(1, 28, 28, 1)"
      ]
     },
     "execution_count": 24,
     "metadata": {},
     "output_type": "execute_result"
    }
   ],
   "source": [
    "batch_x, _ = mnist.test.next_batch(2)\n",
    "\n",
    "image = batch_x[1]\n",
    "noise = np.random.normal(0, noise_variance, image.shape[0])\n",
    "image_input_noise = image + noise\n",
    "image = image.reshape([-1, 28, 28, 1])\n",
    "image_input_noise = image_input_noise.reshape([-1, 28, 28, 1])\n",
    "np.shape(image_input_noise)"
   ]
  },
  {
   "cell_type": "code",
   "execution_count": 25,
   "metadata": {
    "collapsed": false
   },
   "outputs": [
    {
     "data": {
      "text/plain": [
       "<matplotlib.image.AxesImage at 0x11ae5a908>"
      ]
     },
     "execution_count": 25,
     "metadata": {},
     "output_type": "execute_result"
    },
    {
     "data": {
      "image/png": "[encoded data removed]",
      "text/plain": [
       "<matplotlib.figure.Figure at 0x128a67278>"
      ]
     },
     "metadata": {},
     "output_type": "display_data"
    }
   ],
   "source": [
    "plt.imshow(image_input_noise.reshape([28, 28]), interpolation=\"nearest\", cmap=\"gray\")"
   ]
  },
  {
   "cell_type": "code",
   "execution_count": 26,
   "metadata": {
    "collapsed": false
   },
   "outputs": [
    {
     "name": "stdout",
     "output_type": "stream",
     "text": [
      "(1, 14, 14, 3)\n"
     ]
    },
    {
     "data": {
      "image/png": "[encoded data removed]",
      "text/plain": [
       "<matplotlib.figure.Figure at 0x128680a20>"
      ]
     },
     "metadata": {},
     "output_type": "display_data"
    }
   ],
   "source": [
    "image_input = image_input_noise\n",
    "getActivations('encoder/conv1',image_input)"
   ]
  },
  {
   "cell_type": "code",
   "execution_count": 27,
   "metadata": {
    "collapsed": false
   },
   "outputs": [
    {
     "name": "stdout",
     "output_type": "stream",
     "text": [
      "(1, 7, 7, 3)\n"
     ]
    },
    {
     "data": {
      "image/png": "[encoded data removed]",
      "text/plain": [
       "<matplotlib.figure.Figure at 0x1333a59e8>"
      ]
     },
     "metadata": {},
     "output_type": "display_data"
    }
   ],
   "source": [
    "getActivations('encoder/conv2',image_input)"
   ]
  },
  {
   "cell_type": "code",
   "execution_count": 28,
   "metadata": {
    "collapsed": false
   },
   "outputs": [
    {
     "name": "stdout",
     "output_type": "stream",
     "text": [
      "(1, 14, 14, 3)\n"
     ]
    },
    {
     "data": {
      "image/png": "[encoded data removed]",
      "text/plain": [
       "<matplotlib.figure.Figure at 0x129911c18>"
      ]
     },
     "metadata": {},
     "output_type": "display_data"
    }
   ],
   "source": [
    "getActivations('decoder/conv1',image_input)"
   ]
  },
  {
   "cell_type": "code",
   "execution_count": 29,
   "metadata": {
    "collapsed": false
   },
   "outputs": [
    {
     "name": "stdout",
     "output_type": "stream",
     "text": [
      "(1, 28, 28, 1)\n"
     ]
    },
    {
     "data": {
      "image/png": "[encoded data removed]",
      "text/plain": [
       "<matplotlib.figure.Figure at 0x1332c8da0>"
      ]
     },
     "metadata": {},
     "output_type": "display_data"
    }
   ],
   "source": [
    "getActivations('decoder/conv2',image_input)"
   ]
  },
  {
   "cell_type": "code",
   "execution_count": 30,
   "metadata": {
    "collapsed": true
   },
   "outputs": [],
   "source": [
    "# Original Image"
   ]
  },
  {
   "cell_type": "code",
   "execution_count": 31,
   "metadata": {
    "collapsed": false
   },
   "outputs": [
    {
     "data": {
      "text/plain": [
       "<matplotlib.image.AxesImage at 0x133287f98>"
      ]
     },
     "execution_count": 31,
     "metadata": {},
     "output_type": "execute_result"
    },
    {
     "data": {
      "image/png": "[encoded data removed]",
      "text/plain": [
       "<matplotlib.figure.Figure at 0x132fd4240>"
      ]
     },
     "metadata": {},
     "output_type": "display_data"
    }
   ],
   "source": [
    "plt.imshow(image.reshape([28, 28]), interpolation=\"nearest\", cmap=\"gray\")"
   ]
  },
  {
   "cell_type": "markdown",
   "metadata": {
    "collapsed": true
   },
   "source": [
    "<h1 style=\"text-align: center;\" markdown=\"1\"> Deep Learning and Renormalization Group (Physics) </h1>\n",
    "\n",
    "**Deep learning** is a broad set of techniques that uses multiple layers of representation to automatically learn relevant features directly from structured data\n",
    "\n",
    "**Renormalization Group** (RG) is an iterative coarse-graining scheme that allows for the extraction of relevant features (i.e. operators) as a physical system is examined at different length scales. The central goal of RG is to extract relevant features of a physical system for describing phenomena at large length scales by integrating out (i.e. marginalizing over) short distance degrees of freedom. Under this procedure, certain features, called **relevant operators**, become increasingly important while other features, dubbed **irrelevant operators**, have a diminishing effect on the physical properties of the system at large scales."
   ]
  },
  {
   "cell_type": "markdown",
   "metadata": {},
   "source": [
    "#### Ref about DL and RG\n",
    "\n",
    "*\"An exact mapping between the Variational Renormalization Group and Deep Learning\"*\n",
    "https://arxiv.org/abs/1410.3831\n",
    "\n"
   ]
  },
  {
   "cell_type": "markdown",
   "metadata": {
    "collapsed": true
   },
   "source": [
    "<img src=\"images/images.003.jpg\" alt=\"Drawing\" style=\"width: 700px;\"/>"
   ]
  }
 ],
 "metadata": {
  "anaconda-cloud": {},
  "celltoolbar": "Raw Cell Format",
  "kernelspec": {
   "display_name": "Python 3",
   "language": "python",
   "name": "python3"
  },
  "language_info": {
   "codemirror_mode": {
    "name": "ipython",
    "version": 3
   },
   "file_extension": ".py",
   "mimetype": "text/x-python",
   "name": "python",
   "nbconvert_exporter": "python",
   "pygments_lexer": "ipython3",
   "version": "3.6.2"
  }
 },
 "nbformat": 4,
 "nbformat_minor": 1
}
